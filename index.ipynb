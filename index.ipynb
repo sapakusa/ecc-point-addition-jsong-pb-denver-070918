{
 "cells": [
  {
   "cell_type": "markdown",
   "metadata": {},
   "source": [
    "# Point Addition\n",
    "\n",
    "The main reason that Elliptic Curves are useful is because of something called Point Addition. \n",
    "\n",
    "It turns out that for every elliptic curve, a line will intersect at either 1 or 3 points.\n",
    "\n",
    "The two exceptions are when a line is _tangent_ to the curve and when a line is exactly vertical.\n",
    "\n",
    "We will come back to these two cases later.\n",
    "\n",
    "What's interesting is that we can define something called *point addition* using this fact. Like with Field Addition, we define point addition ourselves. In our case, point addition is defined this way:\n",
    "\n",
    "For any two points \\\\(P_1 = (x_1, y_1)\\\\) and \\\\(P_2 = (x_2, y_2)\\\\), we get \\\\(P_1 + P_2\\\\) by:\n",
    "\n",
    "* Finding the point intersects the elliptic curve a third time by drawing a line through \\\\(P_1\\\\) and \\\\(P_2\\\\)\n",
    "* Reflect the resulting point over the x-axis\n",
    "\n",
    "As you can see, point addition is not easily predictable. We can calculate point addition easily enough with a formula, but intuitively, the result of point addition can be almost anywhere given two points on the curve. That is, point addition is non-linear.\n",
    "\n",
    "### Math of Point Addition\n",
    "\n",
    "The reason why we have \"addition\" in the Point Addition name is that Point Addition satisfies certain properties that we think of as addition. Specifically, addition has these properties:\n",
    "\n",
    "* Identity\n",
    "* Commutativity\n",
    "* Associativity\n",
    "* Invertibiltiy\n",
    "\n",
    "Identity here means that there's a zero. That is, there exists some point (I) which when added to a point (P) results in P. We'll call this point the point at infinity (reasons for this will become clear in a bit). That is:\n",
    "\n",
    "I + P = P\n",
    "\n",
    "This is also related to invertibility. For some point P, there's some other point -P which results in the Identity point. That is:\n",
    "\n",
    "P + (-P) = I\n",
    "\n",
    "Visually, these are points opposite each other in the elliptic curve.\n",
    "\n",
    "This is why we call this point the point at infinity. We have one extra point in the elliptic curve which makes the vertical line intersect a third time.\n",
    "\n",
    "Commutativity means that P+Q=Q+P. This is obvious since the line going through P and Q will intersect the curve a third time in the same place no matter what order.\n",
    "\n",
    "Associativity means that (P+Q) + R=P + (Q+R). This isn't obvious and is the reason for flipping over the x-axis."
   ]
  },
  {
   "cell_type": "markdown",
   "metadata": {},
   "source": [
    "### Try it\n",
    "\n",
    "#### For the curve \\\\(y^2 = x^3 + 5x + 7\\\\), what is \\\\((2,5) + (-1,-1)\\\\)?"
   ]
  },
  {
   "cell_type": "code",
   "execution_count": 3,
   "metadata": {},
   "outputs": [],
   "source": [
    "x1, y1 = (2,5)\n",
    "x2, y2 = (-1,-1)\n",
    "# formula in python:\n",
    "# s = (y2-y1)/(x2-x1)\n",
    "s = (y2-y1) / (x2-x1)\n",
    "# x3 = s**2 - x2 - x1\n",
    "x3 = s**2 - x2 - x1\n",
    "# y3 = s*(x1-x3)-y1\n",
    "y3 = s*(x1-x3) - y1\n",
    "\n",
    "print(x3,y3)"
   ]
  },
  {
   "cell_type": "markdown",
   "metadata": {},
   "source": [
    "### Try it\n",
    "\n",
    "#### For the curve \\\\(y^2 = x^3 + 5x + 7\\\\), what is \\\\((-1,1) + (-1,1)\\\\)?"
   ]
  },
  {
   "cell_type": "code",
   "execution_count": 4,
   "metadata": {},
   "outputs": [],
   "source": [
    "a, b = 5, 7\n",
    "x1, y1 = -1, -1\n",
    "\n",
    "# formula in python\n",
    "s = (3*x1**2+a)/(2*y1)\n",
    "# x3 = s**2 - 2*x1\n",
    "# y3 = s*(x1-x3) - y1"
   ]
  },
  {
   "cell_type": "markdown",
   "metadata": {},
   "source": [
    "### Test Driven Exercise\n",
    "\n",
    "#### Make an update to the `__init__` method to handle the point at infinity and then add the `__add__` method to your library."
   ]
  },
  {
   "cell_type": "code",
   "execution_count": 12,
   "metadata": {},
   "outputs": [],
   "source": [
    "from ecc import Point\n",
    "\n",
    "class Point(Point):\n",
    "    \n",
    "    def __init__(self, x, y, a, b):\n",
    "        self.a = a\n",
    "        self.b = b\n",
    "        self.x = x\n",
    "        self.y = y\n",
    "        # x being None and y being None represents the point at infinity\n",
    "        # Check for that here since the equation below won't make sense\n",
    "        # with None values for both.\n",
    "        # make sure that the elliptic curve equation is satisfied\n",
    "        # y**2 == x**3 + a*x + b\n",
    "        if self.y**2 != self.x**3 + a*x + b:\n",
    "        # if not, throw a RuntimeError\n",
    "            raise RuntimeError('({}, {}) is not on the curve'.format(self.x, self.y))\n",
    "\n",
    "    def __add__(self, other):\n",
    "        if self.a != other.a or self.b != other.b:\n",
    "            raise RuntimeError('Points {}, {} are not on the same curve'.format(self, other))\n",
    "        # Case 0.0: self is the point at infinity, return other\n",
    "        # Case 0.1: other is the point at infinity, return self\n",
    "\n",
    "        # Case 1: self.x == other.x, self.y != other.y\n",
    "        # Result is point at infinity\n",
    "        # Remember to return an instance of this class:\n",
    "        # self.__class__(x, y, a, b)\n",
    "        pass"
   ]
  }
 ],
 "metadata": {
  "kernelspec": {
   "display_name": "Python 3",
   "language": "python",
   "name": "python3"
  },
  "language_info": {
   "codemirror_mode": {
    "name": "ipython",
    "version": 3
   },
   "file_extension": ".py",
   "mimetype": "text/x-python",
   "name": "python",
   "nbconvert_exporter": "python",
   "pygments_lexer": "ipython3",
   "version": "3.6.4"
  }
 },
 "nbformat": 4,
 "nbformat_minor": 2
}
